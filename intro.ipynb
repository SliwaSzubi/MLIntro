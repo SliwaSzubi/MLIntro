{
  "nbformat": 4,
  "nbformat_minor": 0,
  "metadata": {
    "colab": {
      "provenance": [],
      "authorship_tag": "ABX9TyNW28T1hBobYfyJUzS0EtOp"
    },
    "kernelspec": {
      "name": "python3",
      "display_name": "Python 3"
    },
    "language_info": {
      "name": "python"
    }
  },
  "cells": [
    {
      "cell_type": "code",
      "execution_count": null,
      "metadata": {
        "colab": {
          "base_uri": "https://localhost:8080/"
        },
        "id": "QmmmGJiySUhl",
        "outputId": "75caf40b-eb62-48e9-f99d-722fce2777d6"
      },
      "outputs": [
        {
          "output_type": "stream",
          "name": "stdout",
          "text": [
            "Hello colab\n"
          ]
        }
      ],
      "source": [
        "print (\"Hello colab\")"
      ]
    },
    {
      "cell_type": "markdown",
      "source": [
        "### test\n"
      ],
      "metadata": {
        "id": "LnhstfwJTd3k"
      }
    },
    {
      "cell_type": "code",
      "source": [],
      "metadata": {
        "id": "g9J3xHCPTgJi"
      },
      "execution_count": null,
      "outputs": []
    }
  ]
}